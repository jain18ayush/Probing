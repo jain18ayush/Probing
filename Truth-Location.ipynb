{
 "cells": [
  {
   "cell_type": "code",
   "execution_count": null,
   "metadata": {},
   "outputs": [],
   "source": [
    "# Goal: Find where in the llm truth lies the most or the least \n",
    "## Assumption: The place with the best model is the place with the best truth \n",
    "## Hypothesis 2: Multiple paragraphs of sentence together will have spikes of truth values across the sentences "
   ]
  },
  {
   "cell_type": "code",
   "execution_count": 1,
   "metadata": {},
   "outputs": [
    {
     "data": {
      "application/vnd.jupyter.widget-view+json": {
       "model_id": "3c8d8aad044b4d0a87aacff48c56639d",
       "version_major": 2,
       "version_minor": 0
      },
      "text/plain": [
       "VBox(children=(HTML(value='<center> <img\\nsrc=https://huggingface.co/front/assets/huggingface_logo-noborder.sv…"
      ]
     },
     "metadata": {},
     "output_type": "display_data"
    }
   ],
   "source": [
    "from huggingface_hub import notebook_login\n",
    "notebook_login()"
   ]
  },
  {
   "cell_type": "code",
   "execution_count": 82,
   "metadata": {},
   "outputs": [
    {
     "data": {
      "text/html": [
       "<div>\n",
       "<style scoped>\n",
       "    .dataframe tbody tr th:only-of-type {\n",
       "        vertical-align: middle;\n",
       "    }\n",
       "\n",
       "    .dataframe tbody tr th {\n",
       "        vertical-align: top;\n",
       "    }\n",
       "\n",
       "    .dataframe thead th {\n",
       "        text-align: right;\n",
       "    }\n",
       "</style>\n",
       "<table border=\"1\" class=\"dataframe\">\n",
       "  <thead>\n",
       "    <tr style=\"text-align: right;\">\n",
       "      <th></th>\n",
       "      <th>statement</th>\n",
       "      <th>label</th>\n",
       "    </tr>\n",
       "  </thead>\n",
       "  <tbody>\n",
       "    <tr>\n",
       "      <th>0</th>\n",
       "      <td>The giant anteater uses walking for locomotion.</td>\n",
       "      <td>1</td>\n",
       "    </tr>\n",
       "    <tr>\n",
       "      <th>1</th>\n",
       "      <td>The eagle has a habitat of urban/wild.</td>\n",
       "      <td>0</td>\n",
       "    </tr>\n",
       "    <tr>\n",
       "      <th>2</th>\n",
       "      <td>The tortoise has an iridescent tail with eye-l...</td>\n",
       "      <td>0</td>\n",
       "    </tr>\n",
       "    <tr>\n",
       "      <th>3</th>\n",
       "      <td>Human uses for hyena include conservation, res...</td>\n",
       "      <td>0</td>\n",
       "    </tr>\n",
       "    <tr>\n",
       "      <th>4</th>\n",
       "      <td>The platypus uses swimming for locomotion.</td>\n",
       "      <td>1</td>\n",
       "    </tr>\n",
       "    <tr>\n",
       "      <th>...</th>\n",
       "      <td>...</td>\n",
       "      <td>...</td>\n",
       "    </tr>\n",
       "    <tr>\n",
       "      <th>1003</th>\n",
       "      <td>The pigeon has the atomic number of mammal.</td>\n",
       "      <td>0</td>\n",
       "    </tr>\n",
       "    <tr>\n",
       "      <th>1004</th>\n",
       "      <td>The kangaroo is a mammal.</td>\n",
       "      <td>1</td>\n",
       "    </tr>\n",
       "    <tr>\n",
       "      <th>1005</th>\n",
       "      <td>The raccoon has a diet of omnivore.</td>\n",
       "      <td>1</td>\n",
       "    </tr>\n",
       "    <tr>\n",
       "      <th>1006</th>\n",
       "      <td>The chimpanzee has a habitat of mountain.</td>\n",
       "      <td>0</td>\n",
       "    </tr>\n",
       "    <tr>\n",
       "      <th>1007</th>\n",
       "      <td>The alpaca is a mammal.</td>\n",
       "      <td>1</td>\n",
       "    </tr>\n",
       "  </tbody>\n",
       "</table>\n",
       "<p>1008 rows × 2 columns</p>\n",
       "</div>"
      ],
      "text/plain": [
       "                                              statement  label\n",
       "0       The giant anteater uses walking for locomotion.      1\n",
       "1                The eagle has a habitat of urban/wild.      0\n",
       "2     The tortoise has an iridescent tail with eye-l...      0\n",
       "3     Human uses for hyena include conservation, res...      0\n",
       "4            The platypus uses swimming for locomotion.      1\n",
       "...                                                 ...    ...\n",
       "1003        The pigeon has the atomic number of mammal.      0\n",
       "1004                          The kangaroo is a mammal.      1\n",
       "1005                The raccoon has a diet of omnivore.      1\n",
       "1006          The chimpanzee has a habitat of mountain.      0\n",
       "1007                            The alpaca is a mammal.      1\n",
       "\n",
       "[1008 rows x 2 columns]"
      ]
     },
     "execution_count": 82,
     "metadata": {},
     "output_type": "execute_result"
    }
   ],
   "source": [
    "# ## Data\n",
    "import pandas as pd\n",
    "df = pd.read_csv('./data/animals_true_false.csv')\n",
    "sentences = df['statement']\n",
    "labels = df['label']\n",
    "df"
   ]
  },
  {
   "cell_type": "code",
   "execution_count": 29,
   "metadata": {},
   "outputs": [],
   "source": [
    "import pandas as pd\n",
    "from itertools import zip_longest\n",
    "\n",
    "# Read the data\n",
    "df = pd.read_csv('./data/animals_true_false.csv')\n",
    "sentences = df['statement']\n",
    "labels = df['label']\n",
    "\n",
    "# Group sentences by class\n",
    "grouped = df.groupby('label')['statement'].apply(list)\n",
    "\n",
    "# Merge sentences into pairs within each class\n",
    "merged_sentences = []\n",
    "merged_classes = []\n",
    "\n",
    "for class_val, sentences in grouped.items():\n",
    "    pairs = [' '.join(pair) for pair in zip_longest(sentences[::2], sentences[1::2], fillvalue='')]\n",
    "    merged_sentences.extend(pairs)\n",
    "    merged_classes.extend([class_val] * len(pairs))\n",
    "\n",
    "# Create a new DataFrame with merged sentences and their classes\n",
    "merged_df = pd.DataFrame({'merged_sentence': merged_sentences, 'class': merged_classes})"
   ]
  },
  {
   "cell_type": "code",
   "execution_count": 61,
   "metadata": {},
   "outputs": [],
   "source": [
    "# merged_df\n",
    "# sentences = merged_df['merged_sentence']\n",
    "# labels = merged_df['class']"
   ]
  },
  {
   "cell_type": "code",
   "execution_count": 62,
   "metadata": {},
   "outputs": [],
   "source": [
    "from transformers import AutoTokenizer, AutoModelForCausalLM\n",
    "def init_model(model_name):\n",
    "  tokenizer = AutoTokenizer.from_pretrained(model_name)\n",
    "  model = AutoModelForCausalLM.from_pretrained(model_name)\n",
    "  return model, tokenizer"
   ]
  },
  {
   "cell_type": "code",
   "execution_count": 83,
   "metadata": {},
   "outputs": [],
   "source": [
    "\n",
    "def generate_embeddings(data, model, tokenizer):\n",
    "    layer_embeddings = {layer: [] for layer in range(49)} \n",
    "    for item in data:\n",
    "        input_text = f'Evaluate the truth of these statements: {item}'\n",
    "        tokens = tokenizer(input_text, return_tensors='pt')\n",
    "        output = model.generate(tokens.input_ids, attention_mask=tokens.attention_mask, output_hidden_states=True, return_dict_in_generate=True, max_new_tokens=1, min_new_tokens=1)\n",
    "        states = output.hidden_states\n",
    "        # Extract embeddings for all layers\n",
    "        for layer in range(len(states[0])):\n",
    "            embeddings = states[0][layer][0][-1]\n",
    "            layer_embeddings[layer].append(embeddings)\n",
    "\n",
    "    return layer_embeddings"
   ]
  },
  {
   "cell_type": "code",
   "execution_count": 1,
   "metadata": {},
   "outputs": [],
   "source": [
    "import numpy as np\n",
    "from sklearn.model_selection import train_test_split\n",
    "from tensorflow.keras.models import Sequential\n",
    "from tensorflow.keras.layers import Dense, Dropout\n",
    "\n",
    "def probe(embeddings, layer, input_dim):\n",
    "  X = np.array(embeddings)  \n",
    "  y = np.array(labels)\n",
    "\n",
    "  save_embeddings(X, layer)\n",
    "\n",
    "  X_train, X_test, y_train, y_test = train_test_split(X, y, test_size=0.2, random_state=42)\n",
    "\n",
    "  # Define and compile model\n",
    "  model = Sequential()\n",
    "  model.add(Dense(256, activation='relu'))\n",
    "  model.add(Dropout(0.5))\n",
    "  model.add(Dense(128, activation='relu'))\n",
    "  model.add(Dropout(0.5))\n",
    "  model.add(Dense(64, activation='relu'))\n",
    "  model.add(Dropout(0.5))\n",
    "  model.add(Dense(1, activation='sigmoid'))  # Assuming binary classification\n",
    "  model.compile(optimizer='adam', loss='binary_crossentropy', metrics=['accuracy'])\n",
    "\n",
    "  # Train the model\n",
    "  model.fit(X_train, y_train, epochs=10, batch_size=32, validation_split=0.2)\n",
    "\n",
    "  # Evaluate the model\n",
    "  test_loss, test_acc = model.evaluate(X_test, y_test)\n",
    "  save_data(test_loss, test_acc, layer)\n",
    "\n",
    "def save_embeddings(embeddings, layer):\n",
    "  save_path = f'./data/embeddings/gpt2/xl_{layer}.npy'\n",
    "  np.save(save_path, embeddings)\n",
    "\n",
    "def save_data(test_loss, test_acc, layer):\n",
    "  write_data = f'{layer}: {test_loss} {test_acc}'\n",
    "  with open('./gpt2_xl_location.txt', 'a') as file:\n",
    "    file.write(f'{write_data}\\n')\n",
    "\n"
   ]
  },
  {
   "cell_type": "code",
   "execution_count": 87,
   "metadata": {},
   "outputs": [],
   "source": [
    "#main function \n",
    "model, tokenizer = init_model('openai-community/gpt2-xl')\n",
    "# embeddings = generate_embeddings(sentences, model, tokenizer)"
   ]
  },
  {
   "cell_type": "code",
   "execution_count": 91,
   "metadata": {},
   "outputs": [
    {
     "data": {
      "text/plain": [
       "1600"
      ]
     },
     "execution_count": 91,
     "metadata": {},
     "output_type": "execute_result"
    }
   ],
   "source": [
    "model.config.hidden_size"
   ]
  },
  {
   "cell_type": "code",
   "execution_count": null,
   "metadata": {},
   "outputs": [],
   "source": [
    "for layer in range(49):\n",
    "  probe(embeddings[layer], layer, model.config.hidden_size)"
   ]
  },
  {
   "cell_type": "code",
   "execution_count": null,
   "metadata": {},
   "outputs": [],
   "source": []
  }
 ],
 "metadata": {
  "kernelspec": {
   "display_name": ".venv",
   "language": "python",
   "name": "python3"
  },
  "language_info": {
   "codemirror_mode": {
    "name": "ipython",
    "version": 3
   },
   "file_extension": ".py",
   "mimetype": "text/x-python",
   "name": "python",
   "nbconvert_exporter": "python",
   "pygments_lexer": "ipython3",
   "version": "3.12.2"
  }
 },
 "nbformat": 4,
 "nbformat_minor": 2
}
